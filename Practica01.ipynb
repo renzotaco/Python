{
 "cells": [
  {
   "cell_type": "code",
   "execution_count": 1,
   "id": "40e45f9d",
   "metadata": {},
   "outputs": [
    {
     "name": "stdout",
     "output_type": "stream",
     "text": [
      "2021-09-02 19:38:58.771487\n",
      "19:38:58.771487\n",
      "2021-09-02\n",
      "Esta es la Hora:  19 Estos son los Minutos:  38  Y Segundo:  58\n",
      "2021 9 2\n"
     ]
    }
   ],
   "source": [
    "import datetime\n",
    "\n",
    "hora_fecha_actual = datetime.datetime.now()\n",
    "\n",
    "print(hora_fecha_actual)\n",
    "\n",
    "hora = hora_fecha_actual.time()\n",
    "fecha = hora_fecha_actual.date()\n",
    "\n",
    "print(hora)\n",
    "print(fecha)\n",
    "\n",
    "print(\"Esta es la Hora: \",hora.hour,\"Estos son los Minutos: \",hora.minute, \" Y Segundo: \", hora.second)\n",
    "print(fecha.year, fecha.month, fecha.day)"
   ]
  },
  {
   "cell_type": "code",
   "execution_count": 2,
   "id": "c66ecfcc",
   "metadata": {},
   "outputs": [
    {
     "name": "stdout",
     "output_type": "stream",
     "text": [
      "Número de procesadores:  4\n"
     ]
    }
   ],
   "source": [
    "import multiprocessing as mp\n",
    "print(\"Número de procesadores: \", mp.cpu_count())"
   ]
  },
  {
   "cell_type": "code",
   "execution_count": 3,
   "id": "39493fd2",
   "metadata": {},
   "outputs": [
    {
     "data": {
      "text/plain": [
       "[[9, 8, 3, 1, 2],\n",
       " [0, 2, 8, 7, 3],\n",
       " [9, 0, 4, 8, 1],\n",
       " [7, 8, 3, 8, 6],\n",
       " [9, 3, 1, 2, 3]]"
      ]
     },
     "execution_count": 3,
     "metadata": {},
     "output_type": "execute_result"
    }
   ],
   "source": [
    "import numpy as np\n",
    "from time import time\n",
    "np.random.RandomState(100)\n",
    "arr = np.random.randint(0, 10, size=[200000, 5])\n",
    "data = arr.tolist()\n",
    "data[:5]"
   ]
  },
  {
   "cell_type": "code",
   "execution_count": 4,
   "id": "d3457053",
   "metadata": {},
   "outputs": [
    {
     "name": "stdout",
     "output_type": "stream",
     "text": [
      "0 1 1 2 3 5 8 13 21 34 55 89 144 233 377 610 987 \n"
     ]
    }
   ],
   "source": [
    "def fib(n):\n",
    "    a, b = 0,1\n",
    "    while a < n:\n",
    "        print(a, end=' ')\n",
    "        a, b = b, a+b\n",
    "    print()\n",
    "fib(1000)"
   ]
  },
  {
   "cell_type": "code",
   "execution_count": 5,
   "id": "205c8e61",
   "metadata": {},
   "outputs": [
    {
     "name": "stderr",
     "output_type": "stream",
     "text": [
      "[Parallel(n_jobs=-1)]: Using backend LokyBackend with 4 concurrent workers.\n",
      "[Parallel(n_jobs=-1)]: Done  10 tasks      | elapsed:    1.0s\n",
      "[Parallel(n_jobs=-1)]: Done 520 tasks      | elapsed:    1.1s\n",
      "[Parallel(n_jobs=-1)]: Done 3000 out of 3000 | elapsed:    1.7s finished\n"
     ]
    }
   ],
   "source": [
    "from joblib import Parallel, delayed\n",
    "from os import getpid\n",
    "\n",
    "def modfib(n):\n",
    "    if n%400 == 0:\n",
    "        print(getpid(), n)  \n",
    "\n",
    "    # fibonacci mod 1000000\n",
    "    a,b = 0,1\n",
    "    for i in range(n):\n",
    "        a,b = b,(a+b)%1000000\n",
    "    return b\n",
    "\n",
    "if __name__ == \"__main__\":\n",
    "    Parallel(n_jobs=-1, verbose=5)(delayed(modfib)(j) for j in range(1000, 4000))"
   ]
  },
  {
   "cell_type": "code",
   "execution_count": null,
   "id": "5efa9925",
   "metadata": {},
   "outputs": [],
   "source": []
  }
 ],
 "metadata": {
  "kernelspec": {
   "display_name": "Python 3",
   "language": "python",
   "name": "python3"
  },
  "language_info": {
   "codemirror_mode": {
    "name": "ipython",
    "version": 3
   },
   "file_extension": ".py",
   "mimetype": "text/x-python",
   "name": "python",
   "nbconvert_exporter": "python",
   "pygments_lexer": "ipython3",
   "version": "3.8.10"
  }
 },
 "nbformat": 4,
 "nbformat_minor": 5
}
