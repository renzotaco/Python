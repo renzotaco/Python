{
  "nbformat": 4,
  "nbformat_minor": 0,
  "metadata": {
    "colab": {
      "name": "ProgParalellEJE01.ipynb",
      "provenance": [],
      "authorship_tag": "ABX9TyPOY824dQ+qoDshQLKsPQiG",
      "include_colab_link": true
    },
    "kernelspec": {
      "name": "python3",
      "display_name": "Python 3"
    },
    "language_info": {
      "name": "python"
    }
  },
  "cells": [
    {
      "cell_type": "markdown",
      "metadata": {
        "id": "view-in-github",
        "colab_type": "text"
      },
      "source": [
        "<a href=\"https://colab.research.google.com/github/renzotaco/Python/blob/main/ProgParalellEJE01.ipynb\" target=\"_parent\"><img src=\"https://colab.research.google.com/assets/colab-badge.svg\" alt=\"Open In Colab\"/></a>"
      ]
    },
    {
      "cell_type": "code",
      "metadata": {
        "colab": {
          "base_uri": "https://localhost:8080/",
          "height": 0
        },
        "id": "wUG6EOczLdM5",
        "outputId": "5737063b-dd84-47f4-a09f-8080a88e46d1"
      },
      "source": [
        "import multiprocessing as mp\n",
        "print(\"Number of processors: \", mp.cpu_count())"
      ],
      "execution_count": 8,
      "outputs": [
        {
          "output_type": "stream",
          "name": "stdout",
          "text": [
            "Number of processors:  2\n"
          ]
        }
      ]
    },
    {
      "cell_type": "code",
      "metadata": {
        "colab": {
          "base_uri": "https://localhost:8080/",
          "height": 0
        },
        "id": "PQHaGdIUMdmY",
        "outputId": "ac3008c2-b270-4a7e-8b05-0939cf8aa45c"
      },
      "source": [
        "import multiprocessing\n",
        "import time\n",
        "\n",
        "def square(x):\n",
        "    return x * x\n",
        "   \n",
        "if __name__ == '__main__':\n",
        "    pool = multiprocessing.Pool()\n",
        "    pool = multiprocessing.Pool(processes=4)\n",
        "    inputs = [0,1,2,3,4]\n",
        "    outputs = pool.map(square, inputs)\n",
        "    print(\"Input: {}\".format(inputs))\n",
        "    print(\"Output: {}\".format(outputs))"
      ],
      "execution_count": 9,
      "outputs": [
        {
          "output_type": "stream",
          "name": "stdout",
          "text": [
            "Input: [0, 1, 2, 3, 4]\n",
            "Output: [0, 1, 4, 9, 16]\n"
          ]
        }
      ]
    },
    {
      "cell_type": "code",
      "metadata": {
        "colab": {
          "base_uri": "https://localhost:8080/",
          "height": 0
        },
        "id": "eiB_AWQgMtBd",
        "outputId": "7ab7e232-5d07-43b1-afe3-cf5cc8b3f78a"
      },
      "source": [
        "import multiprocessing\n",
        "import time\n",
        "\n",
        "def square(x):\n",
        "    return x * x\n",
        "  \n",
        "if __name__ == '__main__':\n",
        "    pool = multiprocessing.Pool()\n",
        "    inputs = [0,1,2,3,4,5,6,7,8,9,10]\n",
        "    outputs_async = pool.map_async(square, inputs)\n",
        "    outputs = outputs_async.get()\n",
        "    print(\"Output: {}\".format(outputs))"
      ],
      "execution_count": 10,
      "outputs": [
        {
          "output_type": "stream",
          "name": "stdout",
          "text": [
            "Output: [0, 1, 4, 9, 16, 25, 36, 49, 64, 81, 100]\n"
          ]
        }
      ]
    },
    {
      "cell_type": "code",
      "metadata": {
        "colab": {
          "base_uri": "https://localhost:8080/",
          "height": 0
        },
        "id": "LjREkFvvM5pS",
        "outputId": "d3223940-9aa1-4106-9a8b-4fd151061f4c"
      },
      "source": [
        "import multiprocessing\n",
        "import time\n",
        "  \n",
        "def square(x):\n",
        "    return x * x\n",
        "  \n",
        "if __name__ == '__main__':\n",
        "    pool = multiprocessing.Pool()\n",
        "    result_async = [pool.apply_async(square, args = (i, )) for i in\n",
        "                    range(10)]\n",
        "    results = [r.get() for r in result_async]\n",
        "    print(\"Output: {}\".format(results))"
      ],
      "execution_count": 11,
      "outputs": [
        {
          "output_type": "stream",
          "name": "stdout",
          "text": [
            "Output: [0, 1, 4, 9, 16, 25, 36, 49, 64, 81]\n"
          ]
        }
      ]
    },
    {
      "cell_type": "code",
      "metadata": {
        "colab": {
          "base_uri": "https://localhost:8080/",
          "height": 0
        },
        "id": "DGLje3RqO-w3",
        "outputId": "82521f10-65fe-4be1-f12d-c57f40b64d5a"
      },
      "source": [
        "import multiprocessing\n",
        "\n",
        "def parallel_runs():\n",
        "    pool = multiprocessing.Pool(processes=4)\n",
        "    input_list = [1, 2, 3, 4]\n",
        "    result_list = pool.map(parfunc, input_list) # 'map' waits until the result is ready\n",
        "    print(result_list)\n",
        "\n",
        "# square-function to run in parallel  \n",
        "def parfunc(x):\n",
        "    return x**2\n",
        "if __name__ == '__main__':\n",
        "    parallel_runs()"
      ],
      "execution_count": 13,
      "outputs": [
        {
          "output_type": "stream",
          "name": "stdout",
          "text": [
            "[1, 4, 9, 16]\n"
          ]
        }
      ]
    },
    {
      "cell_type": "code",
      "metadata": {
        "colab": {
          "base_uri": "https://localhost:8080/",
          "height": 0
        },
        "id": "djhook1aPnPQ",
        "outputId": "799cb803-4f35-4903-dc52-c67778998d8f"
      },
      "source": [
        "import multiprocessing\n",
        "import numpy as np\n",
        "\n",
        "data_pairs = [ [3,5], [4,3], [7,3], [1,6] ]\n",
        "\n",
        "def myfunc(p):\n",
        "    product_of_list = np.prod(p)\n",
        "    return product_of_list\n",
        "\n",
        "if __name__ == '__main__':\n",
        "    pool = multiprocessing.Pool(processes=4)\n",
        "    result_list = pool.map(myfunc, data_pairs)\n",
        "    print(result_list)"
      ],
      "execution_count": 14,
      "outputs": [
        {
          "output_type": "stream",
          "name": "stdout",
          "text": [
            "[15, 12, 21, 6]\n"
          ]
        }
      ]
    },
    {
      "cell_type": "code",
      "metadata": {
        "colab": {
          "base_uri": "https://localhost:8080/",
          "height": 0
        },
        "id": "RL0PEuSeP5iO",
        "outputId": "03417b7f-9ce5-42cb-991c-4892d6b53bf4"
      },
      "source": [
        "import multiprocessing\n",
        "from functools import partial\n",
        "\n",
        "data_list = [1, 2, 3, 4,5,6,7,8,9,10,11,12]\n",
        "\n",
        "def prod_xy(x,y):\n",
        "    return x * y\n",
        "\n",
        "def parallel_runs(data_list):\n",
        "    pool = multiprocessing.Pool(processes=12)\n",
        "    prod_x=partial(prod_xy, y=100) # prod_x has only one argument x (y is fixed to 10)\n",
        "    result_list = pool.map(prod_x, data_list)\n",
        "    print(result_list)\n",
        "\n",
        "if __name__ == '__main__':\n",
        "    parallel_runs(data_list)"
      ],
      "execution_count": 18,
      "outputs": [
        {
          "output_type": "stream",
          "name": "stdout",
          "text": [
            "[100, 200, 300, 400, 500, 600, 700, 800, 900, 1000, 1100, 1200]\n"
          ]
        }
      ]
    },
    {
      "cell_type": "code",
      "metadata": {
        "colab": {
          "base_uri": "https://localhost:8080/",
          "height": 0
        },
        "id": "U2jvMPF1eudZ",
        "outputId": "2dc69797-4f9f-4886-d98a-e93666b33545"
      },
      "source": [
        "import platform\n",
        "print(platform.platform())\n",
        "print(\"cpu cores: {0}\".format(multiprocessing.cpu_count()))"
      ],
      "execution_count": 26,
      "outputs": [
        {
          "output_type": "stream",
          "name": "stdout",
          "text": [
            "Linux-5.4.104+-x86_64-with-Ubuntu-18.04-bionic\n",
            "cpu cores: 2\n"
          ]
        }
      ]
    },
    {
      "cell_type": "code",
      "metadata": {
        "colab": {
          "base_uri": "https://localhost:8080/",
          "height": 0
        },
        "id": "ixP39R6LgPIQ",
        "outputId": "e980fcaf-0710-43a2-9374-8c1b27af3f30"
      },
      "source": [
        "#en caso de error instalar pandas !pip install pandas\n",
        "import pandas as pd\n",
        "archivo = 'salariosXLS.xlsx'\n",
        "df = pd.read_excel(archivo, sheet_name='Hoja1')\n",
        "\n",
        "count=0\n",
        "total=0\n",
        "for index, row in df.iterrows():\n",
        "    #indicamos condiciones para sumar\n",
        "    if row[0]>=1 and row[0]<=20:\n",
        "        total+=float(row[3])\n",
        "        print(row[0],row[1],row[3])\n",
        "        count += 1\n",
        "print('Total: ',format(total, '0,.2f'))  \n",
        "\n",
        "#df.describe()\n",
        "#df.head()\n"
      ],
      "execution_count": 43,
      "outputs": [
        {
          "output_type": "stream",
          "name": "stdout",
          "text": [
            "1 NATHANIEL FORD 167411.18\n",
            "2 GARY JIMENEZ 155966.02\n",
            "3 ALBERT PARDINI 212739.13\n",
            "4 CHRISTOPHER CHONG 77916.0\n",
            "5 PATRICK GARDNER 134401.6\n",
            "6 DAVID SULLIVAN 118602.0\n",
            "7 ALSON LEE 92492.01\n",
            "8 DAVID KUSHNER 256576.96\n",
            "9 MICHAEL MORRIS 176932.64\n",
            "10 JOANNE HAYES-WHITE 285262.0\n",
            "11 ARTHUR KENNEY 194999.39\n",
            "12 PATRICIA JACKSON 99722.0\n",
            "13 EDWARD HARRINGTON 294580.02\n",
            "14 JOHN MARTIN 271329.03\n",
            "15 DAVID FRANKLIN 174872.64\n",
            "16 RICHARD CORRIEA 198778.01\n",
            "17 AMY HART 268604.57\n",
            "18 SEBASTIAN WONG 140546.87\n",
            "19 MARTY ROSS 168692.63\n",
            "20 ELLEN MOFFATT 257510.59\n",
            "Total: %.2f 3,747,935.3\n"
          ]
        }
      ]
    },
    {
      "cell_type": "code",
      "metadata": {
        "colab": {
          "base_uri": "https://localhost:8080/",
          "height": 0
        },
        "id": "5EsytiBDRBEg",
        "outputId": "254e2b5f-6e72-43a1-f234-ca6beb3a188a"
      },
      "source": [
        "#en caso de error instalar pandas !pip install pandas\n",
        "import pandas as pd\n",
        "archivo = 'salariosXLS.xlsx'\n",
        "df = pd.read_excel(archivo, sheet_name='Hoja1')\n",
        "\n",
        "count=0\n",
        "total=0\n",
        "for index, row in df.iterrows():\n",
        "    #indicamos condiciones para sumar\n",
        "    if row[2]==\"ASSISTANT MEDICAL EXAMINER\":\n",
        "        total+=float(row[3])\n",
        "        print(row[0],row[1],row[3])\n",
        "        count += 1\n",
        "print('Se encontró: ',count)\n",
        "print('Total: ',format(total, '0,.2f')) "
      ],
      "execution_count": 48,
      "outputs": [
        {
          "output_type": "stream",
          "name": "stdout",
          "text": [
            "20 ELLEN MOFFATT 257510.59\n",
            "21 VENUS AZAR 257510.48\n",
            "22 JUDY MELINEK 257510.44\n",
            "1517 JON SMITH 153902.71\n",
            "14272 CHRISTOPHER HAPPY 73388.62\n",
            "Se encontró:  5\n",
            "Total:  999,822.84\n"
          ]
        }
      ]
    },
    {
      "cell_type": "code",
      "metadata": {
        "id": "Vlx5mKXNSaNz"
      },
      "source": [
        "#en caso de error instalar pandas !pip install pandas\n",
        "import pandas as pd\n",
        "archivo = 'salariosXLS.xlsx'\n",
        "df = pd.read_excel(archivo, sheet_name='Hoja1')\n",
        "\n",
        "def sumar(dato):\n",
        "  count=0\n",
        "  parcial=0\n",
        "  for index, row in df.iterrows():\n",
        "      #indicamos condiciones para sumar\n",
        "      if row[2]==dato:\n",
        "          parcial+=float(row[3])\n",
        "          #print(row[0],row[1],row[3])\n",
        "          count += 1\n",
        "  return(parcial)\n",
        "\n",
        "total = sumar(\"ASSISTANT MEDICAL EXAMINER\")\n",
        "print('ASSISTANT MEDICAL EXAMINER: ',format(total, '0,.2f')) "
      ],
      "execution_count": null,
      "outputs": []
    },
    {
      "cell_type": "code",
      "metadata": {
        "colab": {
          "base_uri": "https://localhost:8080/",
          "height": 0
        },
        "id": "MMu9ltN3SbJI",
        "outputId": "2d177555-3b0f-4667-89f8-588de32419c0"
      },
      "source": [
        "#en caso de error instalar pandas !pip install pandas\n",
        "%%time\n",
        "import pandas as pd\n",
        "import multiprocessing\n",
        "from functools import partial\n",
        "\n",
        "archivo = 'salariosXLS.xlsx'\n",
        "df = pd.read_excel(archivo, sheet_name='Hoja1')\n",
        "\n",
        "data_list = [\"ASSISTANT MEDICAL EXAMINER\", \"CAPTAIN III (POLICE DEPARTMENT)\",\"ASSISTANT CHIEF ATTORNEY I\"]\n",
        "\n",
        "def sumar(dato):\n",
        "  count=0\n",
        "  parcial=0\n",
        "  for index, row in df.iterrows():\n",
        "      #indicamos condiciones para sumar\n",
        "      if row[2]==dato:\n",
        "          parcial+=float(row[3])\n",
        "          #print(row[0],row[1],row[3])\n",
        "          count += 1\n",
        "  return(parcial)\n",
        "\n",
        "def parallel_runs(data_list):\n",
        "    pool = multiprocessing.Pool(processes=12)\n",
        "    result_list = pool.map(sumar, data_list)\n",
        "    print(result_list)\n",
        " \n",
        "if __name__ == '__main__':\n",
        "    parallel_runs(data_list)\n",
        "\n",
        "#total = sumar(\"ASSISTANT MEDICAL EXAMINER\")\n",
        "#print('ASSISTANT MEDICAL EXAMINER: ',format(total, '0,.2f')) "
      ],
      "execution_count": 49,
      "outputs": [
        {
          "output_type": "stream",
          "name": "stdout",
          "text": [
            "[999822.84, 6296786.119999999, 4005807.4799999995]\n"
          ]
        }
      ]
    },
    {
      "cell_type": "code",
      "metadata": {
        "id": "hnwlc3QwqMcb"
      },
      "source": [
        ""
      ],
      "execution_count": null,
      "outputs": []
    }
  ]
}