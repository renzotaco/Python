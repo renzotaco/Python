{
 "cells": [
  {
   "cell_type": "code",
   "execution_count": 1,
   "id": "59f0ca80",
   "metadata": {},
   "outputs": [
    {
     "name": "stdout",
     "output_type": "stream",
     "text": [
      "Hola Mundo\n"
     ]
    }
   ],
   "source": [
    "print(\"Hola Mundo\");"
   ]
  },
  {
   "cell_type": "code",
   "execution_count": 6,
   "id": "e30a392b",
   "metadata": {},
   "outputs": [
    {
     "name": "stdout",
     "output_type": "stream",
     "text": [
      "2021-09-02 09:44:26.731291\n",
      "09:44:26.731291\n",
      "2021-09-02\n",
      "Hora:  9 Minuto:  44 Segundo:  26\n",
      "2021 9 2\n"
     ]
    }
   ],
   "source": [
    "import datetime\n",
    "\n",
    "hora_fecha_actual = datetime.datetime.now()\n",
    "\n",
    "print(hora_fecha_actual)\n",
    "\n",
    "hora = hora_fecha_actual.time()\n",
    "fecha = hora_fecha_actual.date()\n",
    "\n",
    "print(hora)\n",
    "print(fecha)\n",
    "\n",
    "print(\"Hora: \",hora.hour,\"Minuto: \",hora.minute, \"Segundo: \", hora.second)\n",
    "print(fecha.year, fecha.month, fecha.day)"
   ]
  },
  {
   "cell_type": "code",
   "execution_count": null,
   "id": "f832e2f3",
   "metadata": {},
   "outputs": [],
   "source": []
  }
 ],
 "metadata": {
  "kernelspec": {
   "display_name": "Python 3",
   "language": "python",
   "name": "python3"
  },
  "language_info": {
   "codemirror_mode": {
    "name": "ipython",
    "version": 3
   },
   "file_extension": ".py",
   "mimetype": "text/x-python",
   "name": "python",
   "nbconvert_exporter": "python",
   "pygments_lexer": "ipython3",
   "version": "3.8.10"
  }
 },
 "nbformat": 4,
 "nbformat_minor": 5
}
