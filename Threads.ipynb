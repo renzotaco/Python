{
  "nbformat": 4,
  "nbformat_minor": 0,
  "metadata": {
    "colab": {
      "name": "Threads.ipynb",
      "provenance": [],
      "authorship_tag": "ABX9TyNYamTJED8sz95pjQKHqCXj",
      "include_colab_link": true
    },
    "kernelspec": {
      "name": "python3",
      "display_name": "Python 3"
    },
    "language_info": {
      "name": "python"
    }
  },
  "cells": [
    {
      "cell_type": "markdown",
      "metadata": {
        "id": "view-in-github",
        "colab_type": "text"
      },
      "source": [
        "<a href=\"https://colab.research.google.com/github/renzotaco/Python/blob/main/Threads.ipynb\" target=\"_parent\"><img src=\"https://colab.research.google.com/assets/colab-badge.svg\" alt=\"Open In Colab\"/></a>"
      ]
    },
    {
      "cell_type": "code",
      "metadata": {
        "colab": {
          "base_uri": "https://localhost:8080/"
        },
        "id": "ccseQo69PRiz",
        "outputId": "45f61b25-8766-4d06-958e-e1a8d9f5c9e4"
      },
      "source": [
        "#Secuencialmente\n",
        "import time\n",
        " \n",
        "#First Method\n",
        "def greet_them(people):\n",
        "    for person in people:\n",
        "        print(\"Hola Amigo \" + person + \". Como estas?\")\n",
        "        time.sleep(0.5)\n",
        " \n",
        "#Second Method\n",
        "def assign_id(people):\n",
        "    i = 1\n",
        "    for person in people:\n",
        "        print(\"Hey! {}, tu ID es {}.\".format(person, i))\n",
        "        i += 1\n",
        "        time.sleep(0.5)\n",
        " \n",
        " \n",
        "people = ['Richard', 'Diego', 'Juan', 'Pedro', 'Kevin']\n",
        " \n",
        "t = time.time()\n",
        " \n",
        "greet_them(people)\n",
        "assign_id(people)\n",
        " \n",
        "print(\"Trabajo finalizado..\")\n",
        "print(\"Tiempo:  \" + str(time.time() - t))"
      ],
      "execution_count": 4,
      "outputs": [
        {
          "output_type": "stream",
          "name": "stdout",
          "text": [
            "Hola Amigo Richard. Como estas?\n",
            "Hola Amigo Diego. Como estas?\n",
            "Hola Amigo Juan. Como estas?\n",
            "Hola Amigo Pedro. Como estas?\n",
            "Hola Amigo Kevin. Como estas?\n",
            "Hey! Richard, tu ID es 1.\n",
            "Hey! Diego, tu ID es 2.\n",
            "Hey! Juan, tu ID es 3.\n",
            "Hey! Pedro, tu ID es 4.\n",
            "Hey! Kevin, tu ID es 5.\n",
            "Trabajo finalizado..\n",
            "Tiempo:  5.009801864624023\n"
          ]
        }
      ]
    },
    {
      "cell_type": "code",
      "metadata": {
        "colab": {
          "base_uri": "https://localhost:8080/"
        },
        "id": "3s5Aua6GQQut",
        "outputId": "d154061c-3b6b-4853-f61a-76a4e8f26592"
      },
      "source": [
        "import time\n",
        "import threading\n",
        " \n",
        "# Python Threading Example for Beginners\n",
        "# First Method\n",
        "def greet_them(people):\n",
        "    for person in people:\n",
        "        print(\"Hola \" + person + \". Como estas?\")\n",
        "        time.sleep(0.5)\n",
        " \n",
        " \n",
        "# Second Method\n",
        "def assign_id(people):\n",
        "    i = 1\n",
        "    for person in people:\n",
        "        print(\"Hey! {}, tu ID es {}.\".format(person, i))\n",
        "        i += 1\n",
        "        time.sleep(0.5)\n",
        " \n",
        " \n",
        "people = ['Richard', 'Diego', 'Juan', 'Pedro', 'Kevin']\n",
        " \n",
        "t = time.time()\n",
        " \n",
        "#Created the Threads\n",
        "t1 = threading.Thread(target=greet_them, args=(people,))\n",
        "t2 = threading.Thread(target=assign_id, args=(people,))\n",
        " \n",
        "#Started the threads\n",
        "t1.start()\n",
        "t2.start()\n",
        " \n",
        "#Joined the threads\n",
        "t1.join()\n",
        "t2.join()\n",
        " \n",
        "print(\"Trabajo Finalizado\")\n",
        "print(\"Tiempo:  \" + str(time.time() - t))"
      ],
      "execution_count": 5,
      "outputs": [
        {
          "output_type": "stream",
          "name": "stdout",
          "text": [
            "Hola Richard. Como estas?\n",
            "Hey! Richard, tu ID es 1.\n",
            "Hola Diego. Como estas?\n",
            "Hey! Diego, tu ID es 2.\n",
            "Hola Juan. Como estas?\n",
            "Hey! Juan, tu ID es 3.\n",
            "Hola Pedro. Como estas?\n",
            "Hey! Pedro, tu ID es 4.\n",
            "Hola Kevin. Como estas?\n",
            "Hey! Kevin, tu ID es 5.\n",
            "Trabajo Finalizado\n",
            "Tiempo:  2.5108802318573\n"
          ]
        }
      ]
    },
    {
      "cell_type": "code",
      "metadata": {
        "colab": {
          "base_uri": "https://localhost:8080/"
        },
        "id": "EVCOIfSCUFhK",
        "outputId": "97954640-7496-43c8-9508-c22b5e1536d3"
      },
      "source": [
        "import multiprocessing as mp\n",
        "import numpy as np\n",
        "import tqdm\n",
        "from itertools import repeat\n",
        "from multiprocessing import Process, Manager\n",
        "from multiprocessing import Pool\n",
        "import pandas as pd\n",
        "\n",
        "\n",
        "num_processes = mp.cpu_count()\n",
        "\n",
        "print(\"Number of cpu : \", num_processes)"
      ],
      "execution_count": 6,
      "outputs": [
        {
          "output_type": "stream",
          "name": "stdout",
          "text": [
            "Number of cpu :  2\n"
          ]
        }
      ]
    },
    {
      "cell_type": "code",
      "metadata": {
        "colab": {
          "base_uri": "https://localhost:8080/"
        },
        "id": "HVSY7saJNRr0",
        "outputId": "5d09e5ab-ec3d-450a-f3bf-3c154b169249"
      },
      "source": [
        "import threading \n",
        "  \n",
        "def print_one(): \n",
        "\tfor i in range(10):\n",
        "\t\tprint(1)\n",
        "  \n",
        "def print_two(): \n",
        "\tfor i in range(10):\n",
        "\t\tprint(2)\n",
        "  \n",
        "if __name__ == \"__main__\": \n",
        "\t# create threads\n",
        "\tt1 = threading.Thread(target=print_one) \n",
        "\tt2 = threading.Thread(target=print_two) \n",
        "\t\n",
        "\t# start thread 1 \n",
        "\tt1.start() \n",
        "\t# start thread 2 \n",
        "\tt2.start() \n",
        "\t\n",
        "\t# wait until thread 1 is completely executed \n",
        "\tt1.join() \n",
        "\t# wait until thread 2 is completely executed \n",
        "\tt2.join() \n",
        "\t# both threads completely executed \n",
        "\t\n",
        "\tprint(\"Done!\") "
      ],
      "execution_count": 1,
      "outputs": [
        {
          "output_type": "stream",
          "name": "stdout",
          "text": [
            "1\n",
            "1\n",
            "1\n",
            "1\n",
            "1\n",
            "1\n",
            "1\n",
            "1\n",
            "1\n",
            "1\n",
            "2\n",
            "2\n",
            "2\n",
            "2\n",
            "2\n",
            "2\n",
            "2\n",
            "2\n",
            "2\n",
            "2\n",
            "Done!\n"
          ]
        }
      ]
    },
    {
      "cell_type": "code",
      "metadata": {
        "colab": {
          "base_uri": "https://localhost:8080/"
        },
        "id": "VjRfNrNJOOnD",
        "outputId": "87756b4d-d163-4d8c-acd7-128c8043eb4b"
      },
      "source": [
        "import threading \n",
        "  \n",
        "def print_x(x, n): \n",
        "\tfor i in range(n):\n",
        "\t\tprint(x)\n",
        "  \n",
        "if __name__ == \"__main__\": \n",
        "\t# create threads\n",
        "\tt1 = threading.Thread(target=print_x, args=(1, 5,)) \n",
        "\tt2 = threading.Thread(target=print_x, args=(2, 10,)) \n",
        "\t\n",
        "\t# start thread 1 \n",
        "\tt1.start() \n",
        "\t# start thread 2 \n",
        "\tt2.start() \n",
        "\t\n",
        "\t# wait until thread 1 is completely executed \n",
        "\tt1.join() \n",
        "\t# wait until thread 2 is completely executed \n",
        "\tt2.join() \n",
        "\t# both threads completely executed \n",
        "\t\n",
        "\tprint(\"Done!\") "
      ],
      "execution_count": 2,
      "outputs": [
        {
          "output_type": "stream",
          "name": "stdout",
          "text": [
            "12\n",
            "2\n",
            "2\n",
            "2\n",
            "2\n",
            "2\n",
            "2\n",
            "2\n",
            "2\n",
            "2\n",
            "\n",
            "1\n",
            "1\n",
            "1\n",
            "1\n",
            "Done!\n"
          ]
        }
      ]
    },
    {
      "cell_type": "code",
      "metadata": {
        "colab": {
          "base_uri": "https://localhost:8080/"
        },
        "id": "aOPKtpyCXmQa",
        "outputId": "4e615ac9-0ae2-4bdd-f956-d5df2e7e7d58"
      },
      "source": [
        "from concurrent.futures import ThreadPoolExecutor\n",
        "from time import sleep\n",
        "def task(message):\n",
        "   sleep(2)\n",
        "   return message\n",
        "\n",
        "def main():\n",
        "   executor = ThreadPoolExecutor(5)\n",
        "   future = executor.submit(task, (\"Completed\"))\n",
        "   print(future.done())\n",
        "   sleep(2)\n",
        "   print(future.done())\n",
        "   print(future.result())\n",
        "if __name__ == '__main__':\n",
        "   main()"
      ],
      "execution_count": 8,
      "outputs": [
        {
          "output_type": "stream",
          "name": "stdout",
          "text": [
            "False\n",
            "True\n",
            "Completed\n"
          ]
        }
      ]
    },
    {
      "cell_type": "code",
      "metadata": {
        "colab": {
          "base_uri": "https://localhost:8080/"
        },
        "id": "yfTB5-aEaSwQ",
        "outputId": "69d77764-b2e3-49ad-cc53-634845a49d9f"
      },
      "source": [
        "from concurrent.futures import ThreadPoolExecutor\n",
        "from concurrent.futures import as_completed\n",
        "values = [2,3,4,5,6,7,8,9,10]\n",
        "def square(n):\n",
        "   return n * n\n",
        "def main():\n",
        "   with ThreadPoolExecutor(max_workers = 3) as executor:\n",
        "      results = executor.map(square, values)\n",
        "   for result in results:\n",
        "      print(result)\n",
        "if __name__ == '__main__':\n",
        "   main()"
      ],
      "execution_count": 14,
      "outputs": [
        {
          "output_type": "stream",
          "name": "stdout",
          "text": [
            "4\n",
            "9\n",
            "16\n",
            "25\n",
            "36\n",
            "49\n",
            "64\n",
            "81\n",
            "100\n"
          ]
        }
      ]
    },
    {
      "cell_type": "code",
      "metadata": {
        "colab": {
          "base_uri": "https://localhost:8080/"
        },
        "id": "Bx75GBDbhVuf",
        "outputId": "f0eb677b-0c9f-4601-ae7d-b139617245fb"
      },
      "source": [
        "!pip install pandas"
      ],
      "execution_count": 17,
      "outputs": [
        {
          "output_type": "stream",
          "name": "stdout",
          "text": [
            "Requirement already satisfied: pandas in /usr/local/lib/python3.7/dist-packages (1.1.5)\n",
            "Requirement already satisfied: python-dateutil>=2.7.3 in /usr/local/lib/python3.7/dist-packages (from pandas) (2.8.2)\n",
            "Requirement already satisfied: numpy>=1.15.4 in /usr/local/lib/python3.7/dist-packages (from pandas) (1.19.5)\n",
            "Requirement already satisfied: pytz>=2017.2 in /usr/local/lib/python3.7/dist-packages (from pandas) (2018.9)\n",
            "Requirement already satisfied: six>=1.5 in /usr/local/lib/python3.7/dist-packages (from python-dateutil>=2.7.3->pandas) (1.15.0)\n"
          ]
        }
      ]
    },
    {
      "cell_type": "code",
      "metadata": {
        "colab": {
          "base_uri": "https://localhost:8080/",
          "height": 360
        },
        "id": "nscCnnsyg80f",
        "outputId": "124bba82-cb07-4f6e-e891-2d2d13a09559"
      },
      "source": [
        "# en caso de error instalar pandas !pip install pandas\n",
        "# abriendo csv\n",
        "import pandas as pd\n",
        "df = pd.read_csv(\"SalariesOLD.csv\")\n",
        "df.head()"
      ],
      "execution_count": 18,
      "outputs": [
        {
          "output_type": "stream",
          "name": "stderr",
          "text": [
            "/usr/local/lib/python3.7/dist-packages/IPython/core/interactiveshell.py:2718: DtypeWarning: Columns (12) have mixed types.Specify dtype option on import or set low_memory=False.\n",
            "  interactivity=interactivity, compiler=compiler, result=result)\n"
          ]
        },
        {
          "output_type": "execute_result",
          "data": {
            "text/html": [
              "<div>\n",
              "<style scoped>\n",
              "    .dataframe tbody tr th:only-of-type {\n",
              "        vertical-align: middle;\n",
              "    }\n",
              "\n",
              "    .dataframe tbody tr th {\n",
              "        vertical-align: top;\n",
              "    }\n",
              "\n",
              "    .dataframe thead th {\n",
              "        text-align: right;\n",
              "    }\n",
              "</style>\n",
              "<table border=\"1\" class=\"dataframe\">\n",
              "  <thead>\n",
              "    <tr style=\"text-align: right;\">\n",
              "      <th></th>\n",
              "      <th>Id</th>\n",
              "      <th>EmployeeName</th>\n",
              "      <th>JobTitle</th>\n",
              "      <th>BasePay</th>\n",
              "      <th>OvertimePay</th>\n",
              "      <th>OtherPay</th>\n",
              "      <th>Benefits</th>\n",
              "      <th>TotalPay</th>\n",
              "      <th>TotalPayBenefits</th>\n",
              "      <th>Year</th>\n",
              "      <th>Notes</th>\n",
              "      <th>Agency</th>\n",
              "      <th>Status</th>\n",
              "    </tr>\n",
              "  </thead>\n",
              "  <tbody>\n",
              "    <tr>\n",
              "      <th>0</th>\n",
              "      <td>1</td>\n",
              "      <td>NATHANIEL FORD</td>\n",
              "      <td>GENERAL MANAGER-METROPOLITAN TRANSIT AUTHORITY</td>\n",
              "      <td>167411.18</td>\n",
              "      <td>0.00</td>\n",
              "      <td>400184.25</td>\n",
              "      <td>NaN</td>\n",
              "      <td>567595.43</td>\n",
              "      <td>567595.43</td>\n",
              "      <td>2011</td>\n",
              "      <td>NaN</td>\n",
              "      <td>San Francisco</td>\n",
              "      <td>NaN</td>\n",
              "    </tr>\n",
              "    <tr>\n",
              "      <th>1</th>\n",
              "      <td>2</td>\n",
              "      <td>GARY JIMENEZ</td>\n",
              "      <td>CAPTAIN III (POLICE DEPARTMENT)</td>\n",
              "      <td>155966.02</td>\n",
              "      <td>245131.88</td>\n",
              "      <td>137811.38</td>\n",
              "      <td>NaN</td>\n",
              "      <td>538909.28</td>\n",
              "      <td>538909.28</td>\n",
              "      <td>2011</td>\n",
              "      <td>NaN</td>\n",
              "      <td>San Francisco</td>\n",
              "      <td>NaN</td>\n",
              "    </tr>\n",
              "    <tr>\n",
              "      <th>2</th>\n",
              "      <td>3</td>\n",
              "      <td>ALBERT PARDINI</td>\n",
              "      <td>CAPTAIN III (POLICE DEPARTMENT)</td>\n",
              "      <td>212739.13</td>\n",
              "      <td>106088.18</td>\n",
              "      <td>16452.60</td>\n",
              "      <td>NaN</td>\n",
              "      <td>335279.91</td>\n",
              "      <td>335279.91</td>\n",
              "      <td>2011</td>\n",
              "      <td>NaN</td>\n",
              "      <td>San Francisco</td>\n",
              "      <td>NaN</td>\n",
              "    </tr>\n",
              "    <tr>\n",
              "      <th>3</th>\n",
              "      <td>4</td>\n",
              "      <td>CHRISTOPHER CHONG</td>\n",
              "      <td>WIRE ROPE CABLE MAINTENANCE MECHANIC</td>\n",
              "      <td>77916.00</td>\n",
              "      <td>56120.71</td>\n",
              "      <td>198306.90</td>\n",
              "      <td>NaN</td>\n",
              "      <td>332343.61</td>\n",
              "      <td>332343.61</td>\n",
              "      <td>2011</td>\n",
              "      <td>NaN</td>\n",
              "      <td>San Francisco</td>\n",
              "      <td>NaN</td>\n",
              "    </tr>\n",
              "    <tr>\n",
              "      <th>4</th>\n",
              "      <td>5</td>\n",
              "      <td>PATRICK GARDNER</td>\n",
              "      <td>DEPUTY CHIEF OF DEPARTMENT,(FIRE DEPARTMENT)</td>\n",
              "      <td>134401.60</td>\n",
              "      <td>9737.00</td>\n",
              "      <td>182234.59</td>\n",
              "      <td>NaN</td>\n",
              "      <td>326373.19</td>\n",
              "      <td>326373.19</td>\n",
              "      <td>2011</td>\n",
              "      <td>NaN</td>\n",
              "      <td>San Francisco</td>\n",
              "      <td>NaN</td>\n",
              "    </tr>\n",
              "  </tbody>\n",
              "</table>\n",
              "</div>"
            ],
            "text/plain": [
              "   Id       EmployeeName  ...         Agency  Status\n",
              "0   1     NATHANIEL FORD  ...  San Francisco     NaN\n",
              "1   2       GARY JIMENEZ  ...  San Francisco     NaN\n",
              "2   3     ALBERT PARDINI  ...  San Francisco     NaN\n",
              "3   4  CHRISTOPHER CHONG  ...  San Francisco     NaN\n",
              "4   5    PATRICK GARDNER  ...  San Francisco     NaN\n",
              "\n",
              "[5 rows x 13 columns]"
            ]
          },
          "metadata": {},
          "execution_count": 18
        }
      ]
    },
    {
      "cell_type": "code",
      "metadata": {
        "colab": {
          "base_uri": "https://localhost:8080/"
        },
        "id": "V00eXia6gJoH",
        "outputId": "8b5fdccc-4482-446e-c0c2-2cacdbc6a6d2"
      },
      "source": [
        "from concurrent.futures import ThreadPoolExecutor\n",
        "from concurrent.futures import as_completed\n",
        "\n",
        "data_list = [\"ASSISTANT MEDICAL EXAMINER\", \"CAPTAIN III (POLICE DEPARTMENT)\",\"ASSISTANT CHIEF ATTORNEY I\"]\n",
        "def sumar(dato):\n",
        "  count=0\n",
        "  parcial=0\n",
        "  for index, row in df.iterrows():\n",
        "      if row[2]==dato:\n",
        "          parcial+=float(row[3])\n",
        "          count += 1\n",
        "  return(parcial)\n",
        "\n",
        "def main():\n",
        "   with ThreadPoolExecutor(max_workers = 5) as executor:\n",
        "      results = executor.map(sumar, data_list)\n",
        "   for result in results:\n",
        "      print(result)\n",
        "if __name__ == '__main__':\n",
        "   main()"
      ],
      "execution_count": 19,
      "outputs": [
        {
          "output_type": "stream",
          "name": "stdout",
          "text": [
            "999822.84\n",
            "6296786.119999999\n",
            "4005807.4799999995\n"
          ]
        }
      ]
    }
  ]
}